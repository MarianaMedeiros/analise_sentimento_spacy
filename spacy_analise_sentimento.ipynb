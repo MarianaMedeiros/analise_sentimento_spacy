{
 "cells": [
  {
   "cell_type": "markdown",
   "id": "9a6a506a",
   "metadata": {},
   "source": [
    "# Instalação das libs \n",
    "### Com exceção do spaCy, todas as libs já estão instaladas no ambiente anaconda. Caso seja executado em outro ambiente, será necessário instalar cada uma delas através do pip."
   ]
  },
  {
   "cell_type": "code",
   "execution_count": null,
   "id": "3f1cf073",
   "metadata": {
    "colab": {
     "base_uri": "https://localhost:8080/"
    },
    "id": "3f1cf073",
    "outputId": "dc500a52-2dca-478e-a06e-7b2a0545f5be"
   },
   "outputs": [],
   "source": [
    "!pip install -q spacy==2.2.3"
   ]
  },
  {
   "cell_type": "markdown",
   "id": "9273a14c",
   "metadata": {},
   "source": [
    "# Importação das libs"
   ]
  },
  {
   "cell_type": "code",
   "execution_count": null,
   "id": "e8f0bcf6",
   "metadata": {
    "colab": {
     "base_uri": "https://localhost:8080/",
     "height": 35
    },
    "id": "e8f0bcf6",
    "outputId": "092c1f82-4b86-4f68-ffb8-1a2d97a990cd"
   },
   "outputs": [],
   "source": [
    "import spacy\n",
    "import pandas as pd\n",
    "import string\n",
    "import spacy\n",
    "import random\n",
    "import seaborn as sns\n",
    "import numpy as np\n",
    "import re\n",
    "from sklearn.metrics import confusion_matrix, accuracy_score\n",
    "\n",
    "spacy.__version__"
   ]
  },
  {
   "cell_type": "markdown",
   "id": "07da2b30",
   "metadata": {},
   "source": [
    "# Download do idioma em português do spaCy"
   ]
  },
  {
   "cell_type": "code",
   "execution_count": null,
   "id": "b57175b3",
   "metadata": {
    "colab": {
     "base_uri": "https://localhost:8080/"
    },
    "id": "b57175b3",
    "outputId": "2f6eb802-6afb-4e56-d23d-a72f0fd70a8d"
   },
   "outputs": [],
   "source": [
    "!python3 -m spacy download pt"
   ]
  },
  {
   "cell_type": "markdown",
   "id": "328fc71a",
   "metadata": {},
   "source": [
    "# Importação do dataset de Treinamento"
   ]
  },
  {
   "cell_type": "code",
   "execution_count": null,
   "id": "3473bfd7",
   "metadata": {
    "id": "3473bfd7"
   },
   "outputs": [],
   "source": [
    "base_treinamento = pd.read_csv('/content/Train3Classes.csv', delimiter=';')"
   ]
  },
  {
   "cell_type": "code",
   "execution_count": null,
   "id": "e91bdf1c",
   "metadata": {
    "colab": {
     "base_uri": "https://localhost:8080/",
     "height": 206
    },
    "id": "e91bdf1c",
    "outputId": "03429897-8f58-4564-9fc2-5b517da56c17"
   },
   "outputs": [],
   "source": [
    "# Listagem dos 5 primeiros registros do arquivo\n",
    "base_treinamento.head()"
   ]
  },
  {
   "cell_type": "code",
   "execution_count": null,
   "id": "f0c2f074",
   "metadata": {
    "colab": {
     "base_uri": "https://localhost:8080/",
     "height": 206
    },
    "id": "f0c2f074",
    "outputId": "fbce90d6-c9fd-4aa3-c6ad-e5ac72424e11"
   },
   "outputs": [],
   "source": [
    "# Listagem dos 5 últimos registros do arquivo\n",
    "base_treinamento.tail()"
   ]
  },
  {
   "cell_type": "code",
   "execution_count": null,
   "id": "6d3bc266",
   "metadata": {
    "colab": {
     "base_uri": "https://localhost:8080/",
     "height": 338
    },
    "id": "6d3bc266",
    "outputId": "69174f61-cc5b-4d08-d5ad-cb499b4001cd"
   },
   "outputs": [],
   "source": [
    "# Visualização da distribuição de amostras para cada label\n",
    "# Aqui é possível identificar que o dataset possui a mesma quantidade para cada rótulo\n",
    "sns.countplot(base_treinamento['sentiment'], label = 'Contagem');"
   ]
  },
  {
   "cell_type": "code",
   "execution_count": null,
   "id": "b847b4e6",
   "metadata": {
    "id": "b847b4e6"
   },
   "outputs": [],
   "source": [
    "# Remoção das colunas que não serão utilizadas no projeto\n",
    "base_treinamento.drop(['id', 'tweet_date', 'query_used'], axis = 1, inplace=True)"
   ]
  },
  {
   "cell_type": "code",
   "execution_count": null,
   "id": "ff595317",
   "metadata": {
    "colab": {
     "base_uri": "https://localhost:8080/",
     "height": 206
    },
    "id": "ff595317",
    "outputId": "327fb870-59a6-4e6a-f7cb-2fe6f569f652"
   },
   "outputs": [],
   "source": [
    "# Visualização de como ficou o dataset após remoção das colunas\n",
    "base_treinamento.head()"
   ]
  },
  {
   "cell_type": "code",
   "execution_count": null,
   "id": "c599e10d",
   "metadata": {
    "colab": {
     "base_uri": "https://localhost:8080/",
     "height": 271
    },
    "id": "c599e10d",
    "outputId": "d7fa773f-95ee-4eae-99d2-7c073b29e535"
   },
   "outputs": [],
   "source": [
    "# No heatmap é possível visualizar que não existe nenhum registro faltante. \n",
    "# Não há valores nulos, a base está completamente preenchida\n",
    "sns.heatmap(pd.isnull(base_treinamento));"
   ]
  },
  {
   "cell_type": "code",
   "execution_count": null,
   "id": "73f62db5",
   "metadata": {
    "id": "73f62db5"
   },
   "outputs": [],
   "source": [
    "# Leitura da base de Teste\n",
    "base_teste = pd.read_csv('/content/Test3classes.csv', delimiter=';')"
   ]
  },
  {
   "cell_type": "code",
   "execution_count": null,
   "id": "c26886a3",
   "metadata": {
    "colab": {
     "base_uri": "https://localhost:8080/",
     "height": 250
    },
    "id": "c26886a3",
    "outputId": "5333855b-995f-4dad-a90a-bf1ab068a7ac"
   },
   "outputs": [],
   "source": [
    "# Listagem dos 5 primeiros registros da base de teste\n",
    "base_teste.head()"
   ]
  },
  {
   "cell_type": "code",
   "execution_count": null,
   "id": "213a3e16",
   "metadata": {
    "colab": {
     "base_uri": "https://localhost:8080/",
     "height": 334
    },
    "id": "213a3e16",
    "outputId": "d67dc029-8556-45c2-caaf-e56de1186bf0"
   },
   "outputs": [],
   "source": [
    "# Na base de Teste também, a distribuição de rótulos está igualmente distribuída.\n",
    "sns.countplot(base_teste['sentiment'], label='Contagem');"
   ]
  },
  {
   "cell_type": "code",
   "execution_count": null,
   "id": "7f258db8",
   "metadata": {
    "id": "7f258db8"
   },
   "outputs": [],
   "source": [
    "# Remoção das colunas não utilizadas\n",
    "base_teste.drop(['id', 'tweet_date', 'query_used'], axis = 1, inplace=True)"
   ]
  },
  {
   "cell_type": "code",
   "execution_count": null,
   "id": "cf18d3db",
   "metadata": {
    "colab": {
     "base_uri": "https://localhost:8080/",
     "height": 271
    },
    "id": "cf18d3db",
    "outputId": "7dfba18b-9662-488c-925d-5a5f83da4bdc"
   },
   "outputs": [],
   "source": [
    "# A base de testes também não possui nenhum valor faltante.\n",
    "sns.heatmap(pd.isnull(base_teste));"
   ]
  },
  {
   "cell_type": "code",
   "execution_count": null,
   "id": "28105c54",
   "metadata": {
    "colab": {
     "base_uri": "https://localhost:8080/"
    },
    "id": "28105c54",
    "outputId": "c5973c28-1097-4a4b-cc9d-f7e8a9176287"
   },
   "outputs": [],
   "source": [
    "# Criação do modelo vazio\n",
    "pln = spacy.load('pt')\n",
    "pln"
   ]
  },
  {
   "cell_type": "code",
   "execution_count": null,
   "id": "cc4ae3b0",
   "metadata": {
    "colab": {
     "base_uri": "https://localhost:8080/"
    },
    "id": "cc4ae3b0",
    "outputId": "0ea1c47e-c224-442b-8101-74aa55aa0e8a"
   },
   "outputs": [],
   "source": [
    "# Stopwords que o spacy possui para a \n",
    "stop_words = spacy.lang.pt.stop_words.STOP_WORDS\n",
    "len(stop_words)\n",
    "# RA palavra \"não\" foi removida da lista de stopwords porque o modelo apresentou melhor performance considerando-a na sentença\n",
    "stop_words.remove('não')\n",
    "len(stop_words)"
   ]
  },
  {
   "cell_type": "code",
   "execution_count": null,
   "id": "2d6b64b9",
   "metadata": {
    "id": "2d6b64b9"
   },
   "outputs": [],
   "source": [
    "# função que faz todo o pré-processamento das sentenças.\n",
    "def preprocessamento(texto):\n",
    "  # Letras minúsculas\n",
    "  texto = texto.lower()\n",
    "\n",
    "  # Nome do usuário\n",
    "  texto = re.sub(r\"@[A-Za-z0-9$-_@.&+]+\", ' ', texto)\n",
    "\n",
    "  # URLs\n",
    "  texto = re.sub(r\"https?://[A-Za-z0-9./]+\", ' ', texto)\n",
    "\n",
    "  # Espaços em branco\n",
    "  texto = re.sub(r\" +\", ' ', texto)\n",
    "\n",
    "  # Emoticons\n",
    "  lista_emocoes = {':)': 'emocaopositiva',\n",
    "                   ':>': 'emocaopositiva',\n",
    "                   ':3': 'emocaopositiva',\n",
    "                   ':d': 'emocaopositiva',\n",
    "                   ':]': 'emocaopositiva',\n",
    "                   ':}': 'emocaopositiva',\n",
    "                   '=)': 'emocaopositiva',\n",
    "                   '=>': 'emocaopositiva',\n",
    "                   '=3': 'emocaopositiva',\n",
    "                   '=]': 'emocaopositiva',\n",
    "                   '=}': 'emocaopositiva',\n",
    "                   '=d': 'emocaopositiva',\n",
    "                   ':(': 'emocaonegativa'}\n",
    "  \n",
    "  # remove das frases os emoticons\n",
    "  for emocao in lista_emocoes:\n",
    "    texto = texto.replace(emocao, '')\n",
    "\n",
    "  # Lematização\n",
    "  documento = pln(texto)\n",
    "\n",
    "  # cria uma nova lista para aplicar a lematização\n",
    "  lista = []\n",
    "  for token in documento:\n",
    "    lista.append(token.lemma_)\n",
    "  \n",
    "  # Stopwords e pontuações\n",
    "  lista = [palavra for palavra in lista if palavra not in stop_words and palavra not in string.punctuation]\n",
    "  lista = ' '.join([str(elemento) for elemento in lista if not elemento.isdigit()])\n",
    "  \n",
    "  return lista"
   ]
  },
  {
   "cell_type": "code",
   "execution_count": null,
   "id": "a33a09c2",
   "metadata": {
    "id": "a33a09c2"
   },
   "outputs": [],
   "source": [
    "# Aplicação do prá-processamento na base de treinamento\n",
    "base_treinamento['tweet_text'] = base_treinamento['tweet_text'].apply(preprocessamento)"
   ]
  },
  {
   "cell_type": "code",
   "execution_count": null,
   "id": "fc7f313d",
   "metadata": {
    "colab": {
     "base_uri": "https://localhost:8080/",
     "height": 363
    },
    "id": "fc7f313d",
    "outputId": "0f3abb6b-f40e-406c-b695-b10df4bc7238"
   },
   "outputs": [],
   "source": [
    "# Visualização de como ficou após o pré-processamento\n",
    "base_treinamento.head(10)"
   ]
  },
  {
   "cell_type": "code",
   "execution_count": null,
   "id": "e70002dd",
   "metadata": {
    "id": "e70002dd"
   },
   "outputs": [],
   "source": [
    "# Pré-processamento na base de teste\n",
    "base_teste['tweet_text'] = base_teste['tweet_text'].apply(preprocessamento)"
   ]
  },
  {
   "cell_type": "code",
   "execution_count": null,
   "id": "274b2e9c",
   "metadata": {
    "colab": {
     "base_uri": "https://localhost:8080/",
     "height": 363
    },
    "id": "274b2e9c",
    "outputId": "8ca333cc-f518-4252-a2e0-9f78a6d59eaf"
   },
   "outputs": [],
   "source": [
    "# Visualização de como ficou após o pré-processamento\n",
    "base_teste.head(10)"
   ]
  },
  {
   "cell_type": "code",
   "execution_count": null,
   "id": "e0cf5608",
   "metadata": {
    "id": "e0cf5608"
   },
   "outputs": [],
   "source": [
    "# Espécie de one-hot-encoding versão dicionário de rótulos :D\n",
    "base_dados_treinamento_final = []\n",
    "for texto, emocao in zip(base_treinamento['tweet_text'], base_treinamento['sentiment']):\n",
    "  if emocao == 1:\n",
    "    dic = ({'POSITIVO': True, 'NEGATIVO': False, 'NEUTRO': False})\n",
    "  elif emocao == 0:\n",
    "    dic = ({'POSITIVO': False, 'NEGATIVO': True, 'NEUTRO': False})\n",
    "  elif emocao == 2:\n",
    "    dic = ({'POSITIVO': False, 'NEGATIVO': False, 'NEUTRO': True})\n",
    "\n",
    "  base_dados_treinamento_final.append([texto, dic.copy()])"
   ]
  },
  {
   "cell_type": "code",
   "execution_count": null,
   "id": "57179bb4",
   "metadata": {
    "colab": {
     "base_uri": "https://localhost:8080/"
    },
    "id": "57179bb4",
    "outputId": "fceef3a5-b7dd-4637-d39d-8db6db10ee87"
   },
   "outputs": [],
   "source": [
    "# Exemplo aleatório de como ficou o dicionário de rótulos positivos\n",
    "base_dados_treinamento_final[35:40]"
   ]
  },
  {
   "cell_type": "code",
   "execution_count": null,
   "id": "ee22928a",
   "metadata": {
    "id": "ee22928a"
   },
   "outputs": [],
   "source": [
    "# Criação da pipeline para treinar o modelo\n",
    "modelo = spacy.blank('pt')\n",
    "categorias = modelo.create_pipe(\"textcat\")\n",
    "\n",
    "# Adição dos rótulos na pipeline\n",
    "categorias.add_label(\"POSITIVO\")\n",
    "categorias.add_label(\"NEGATIVO\")\n",
    "categorias.add_label(\"NEUTRO\")\n",
    "modelo.add_pipe(categorias)\n",
    "\n",
    "# essa variável vai servir para pegar o histórico de losses\n",
    "historico = []"
   ]
  },
  {
   "cell_type": "code",
   "execution_count": null,
   "id": "43c9f082",
   "metadata": {
    "colab": {
     "base_uri": "https://localhost:8080/"
    },
    "id": "43c9f082",
    "outputId": "e820df60-8643-413d-edd2-c69cd5c13f43"
   },
   "outputs": [],
   "source": [
    "# Treinamento do modelo em si :)\n",
    "modelo.begin_training()\n",
    "\n",
    "# São 20 épocas\n",
    "for epoca in range(20):\n",
    "  print(\"Epoca: \", epoca)\n",
    "  random.shuffle(base_dados_treinamento_final)\n",
    "  losses = {}\n",
    "  # a base de treinamento foi quebrada em 256 batches\n",
    "  for batch in spacy.util.minibatch(base_dados_treinamento_final, 256):\n",
    "    textos = [modelo(texto) for texto, entities in batch]\n",
    "    annotations = [{'cats': entities} for texto, entities in batch]\n",
    "    modelo.update(textos, annotations, losses=losses)\n",
    "    historico.append(losses)\n",
    "  if epoca % 5 == 0:\n",
    "    print(losses)"
   ]
  },
  {
   "cell_type": "code",
   "execution_count": null,
   "id": "413f06b8",
   "metadata": {
    "id": "413f06b8"
   },
   "outputs": [],
   "source": [
    "historico_loss = []\n",
    "for i in historico:\n",
    "  historico_loss.append(i.get('textcat'))"
   ]
  },
  {
   "cell_type": "code",
   "execution_count": null,
   "id": "71c155c8",
   "metadata": {
    "colab": {
     "base_uri": "https://localhost:8080/"
    },
    "id": "71c155c8",
    "outputId": "83a308ff-6b51-4079-b09f-7d9bda742ffe"
   },
   "outputs": [],
   "source": [
    "# criação de um numpy array para o histórico de erros\n",
    "historico_loss = np.array(historico_loss)\n",
    "historico_loss"
   ]
  },
  {
   "cell_type": "code",
   "execution_count": null,
   "id": "7b56c69b",
   "metadata": {
    "colab": {
     "base_uri": "https://localhost:8080/",
     "height": 312
    },
    "id": "7b56c69b",
    "outputId": "2d899245-1475-4f95-b6c6-0bd1558cce65"
   },
   "outputs": [],
   "source": [
    "# usando matplotlib para plotar o gráfico da progressão do erro\n",
    "import matplotlib.pyplot as plt\n",
    "plt.plot(historico_loss)\n",
    "plt.title('Progressão do erro')\n",
    "plt.xlabel('Batches')\n",
    "plt.ylabel('Erro')"
   ]
  },
  {
   "cell_type": "code",
   "execution_count": null,
   "id": "9198aed8",
   "metadata": {
    "id": "9198aed8"
   },
   "outputs": [],
   "source": [
    "# este trecho salva o modelo (estado/pickle) treinado\n",
    "modelo.to_disk(\"modelo\")"
   ]
  },
  {
   "cell_type": "code",
   "execution_count": null,
   "id": "e38928d2",
   "metadata": {
    "colab": {
     "base_uri": "https://localhost:8080/"
    },
    "id": "e38928d2",
    "outputId": "6657ab24-94cb-4c1a-edf5-ec7fbc3cd3c4"
   },
   "outputs": [],
   "source": [
    "# Carrega o modelo treinado\n",
    "modelo_carregado = spacy.load('modelo')\n",
    "modelo_carregado"
   ]
  },
  {
   "cell_type": "code",
   "execution_count": null,
   "id": "252b6889",
   "metadata": {
    "colab": {
     "base_uri": "https://localhost:8080/",
     "height": 35
    },
    "id": "252b6889",
    "outputId": "559eeed8-5957-4c3e-9b83-c2d40b410856"
   },
   "outputs": [],
   "source": [
    "# Teste com frase positiva\n",
    "texto_positivo = 'eu gosto muito de você'\n",
    "texto_positivo = preprocessamento(texto_positivo)\n",
    "texto_positivo"
   ]
  },
  {
   "cell_type": "code",
   "execution_count": null,
   "id": "10066b08",
   "metadata": {
    "colab": {
     "base_uri": "https://localhost:8080/"
    },
    "id": "10066b08",
    "outputId": "4a1a6464-569f-4336-ed29-31a8f26227fc"
   },
   "outputs": [],
   "source": [
    "modelo_carregado(texto_positivo).cats"
   ]
  },
  {
   "cell_type": "code",
   "execution_count": null,
   "id": "b7c9adfd",
   "metadata": {
    "colab": {
     "base_uri": "https://localhost:8080/",
     "height": 35
    },
    "id": "b7c9adfd",
    "outputId": "218bd22f-1b44-429a-f828-66fe67eb7c86"
   },
   "outputs": [],
   "source": [
    "# Teste com frase negativa\n",
    "texto_negativo = 'não gostei nada'\n",
    "texto_negativo = preprocessamento(texto_negativo)\n",
    "texto_negativo"
   ]
  },
  {
   "cell_type": "code",
   "execution_count": null,
   "id": "1b4d81e9",
   "metadata": {
    "colab": {
     "base_uri": "https://localhost:8080/"
    },
    "id": "1b4d81e9",
    "outputId": "51415dfc-5242-4209-b00b-39ad7943028b"
   },
   "outputs": [],
   "source": [
    "modelo_carregado(texto_negativo).cats"
   ]
  },
  {
   "cell_type": "code",
   "execution_count": null,
   "id": "b3eb8325",
   "metadata": {
    "id": "b3eb8325"
   },
   "outputs": [],
   "source": [
    "# Carrega todas as previsões da base de treinamento em uma lista para comparar com o rótulo original.\n",
    "previsoes = []\n",
    "for texto in base_treinamento['tweet_text']:\n",
    "  previsao = modelo_carregado(texto)\n",
    "  previsoes.append(previsao.cats)"
   ]
  },
  {
   "cell_type": "code",
   "execution_count": null,
   "id": "f10825de",
   "metadata": {
    "colab": {
     "base_uri": "https://localhost:8080/"
    },
    "id": "f10825de",
    "outputId": "cc38228c-2653-42cb-fb7c-4159cd538090"
   },
   "outputs": [],
   "source": [
    "previsoes"
   ]
  },
  {
   "cell_type": "code",
   "execution_count": null,
   "id": "9febb99c",
   "metadata": {
    "id": "9febb99c"
   },
   "outputs": [],
   "source": [
    "# Obtém uma lista com os rótulos para transformar em numpy array - para a matriz de confusão e acurácia.\n",
    "previsoes_final = []\n",
    "for previsao in previsoes:\n",
    "  # obtém qual foi o rótulo que apresentou maior score e dá um append no número que o representa\n",
    "  # 0 - Negativo, 1 - Positivo, 2 - Neutro\n",
    "  valor_max = max(previsao, key = previsao.get)\n",
    "  if valor_max == 'POSITIVO':\n",
    "    previsoes_final.append(1)\n",
    "  elif valor_max == 'NEGATIVO':\n",
    "    previsoes_final.append(0)\n",
    "  else:\n",
    "    previsoes_final.append(2)\n",
    "\n",
    "# gera o numpy array\n",
    "previsoes_final = np.array(previsoes_final)"
   ]
  },
  {
   "cell_type": "code",
   "execution_count": null,
   "id": "1f1b1dad",
   "metadata": {
    "colab": {
     "base_uri": "https://localhost:8080/"
    },
    "id": "1f1b1dad",
    "outputId": "9fb0e2c6-8acc-4766-c983-e368b6746be3"
   },
   "outputs": [],
   "source": [
    "# gera um array aqui com os rótulos do dataset de treinamento\n",
    "# para isso, pega somente a coluna 'sentiment'\n",
    "respostas_reais = base_treinamento['sentiment'].values"
   ]
  },
  {
   "cell_type": "code",
   "execution_count": null,
   "id": "a48d95f1",
   "metadata": {
    "colab": {
     "base_uri": "https://localhost:8080/"
    },
    "id": "a48d95f1",
    "outputId": "abc9470a-52a7-4e16-d322-ca85c824b4f5"
   },
   "outputs": [],
   "source": [
    "# Retorna a acurácia para a base de treinamento\n",
    "accuracy_score(respostas_reais, previsoes_final)"
   ]
  },
  {
   "cell_type": "code",
   "execution_count": null,
   "id": "622fadaf",
   "metadata": {
    "colab": {
     "base_uri": "https://localhost:8080/"
    },
    "id": "622fadaf",
    "outputId": "a82a973a-f511-4a01-d35e-c13f5328c0d3"
   },
   "outputs": [],
   "source": [
    "# Matriz de confusão - base de treinamento\n",
    "cm = confusion_matrix(respostas_reais, previsoes_final)\n",
    "cm"
   ]
  },
  {
   "cell_type": "code",
   "execution_count": null,
   "id": "ccf7c753",
   "metadata": {
    "colab": {
     "base_uri": "https://localhost:8080/",
     "height": 282
    },
    "id": "ccf7c753",
    "outputId": "bd744986-4c33-4e8c-c28a-d2b69ae7dbdf"
   },
   "outputs": [],
   "source": [
    "# plota a matriz de confusão\n",
    "sns.heatmap(cm, annot=True)"
   ]
  },
  {
   "cell_type": "code",
   "execution_count": null,
   "id": "c293d99e",
   "metadata": {
    "id": "c293d99e"
   },
   "outputs": [],
   "source": [
    "# Agora faz o mesmo com a base de teste :)\n",
    "previsoes = []\n",
    "for texto in base_teste['tweet_text']:\n",
    "  previsao = modelo_carregado(texto)\n",
    "  previsoes.append(previsao.cats)"
   ]
  },
  {
   "cell_type": "code",
   "execution_count": null,
   "id": "12933431",
   "metadata": {
    "id": "12933431"
   },
   "outputs": [],
   "source": [
    "previsoes_final = []\n",
    "for previsao in previsoes:\n",
    "  valor_max = max(previsao, key = previsao.get)\n",
    "  if valor_max == 'POSITIVO':\n",
    "    previsoes_final.append(1)\n",
    "  elif valor_max == 'NEGATIVO':\n",
    "    previsoes_final.append(0)\n",
    "  else:\n",
    "    previsoes_final.append(2)\n",
    "\n",
    "previsoes_final = np.array(previsoes_final)"
   ]
  },
  {
   "cell_type": "code",
   "execution_count": null,
   "id": "85dae319",
   "metadata": {
    "id": "85dae319"
   },
   "outputs": [],
   "source": [
    "respostas_reais = base_teste['sentiment'].values"
   ]
  },
  {
   "cell_type": "code",
   "execution_count": null,
   "id": "a6153298",
   "metadata": {
    "colab": {
     "base_uri": "https://localhost:8080/"
    },
    "id": "a6153298",
    "outputId": "f0a29bab-d0d6-4623-eda3-ebf8ac204467"
   },
   "outputs": [],
   "source": [
    "# Acurácia da base de teste\n",
    "accuracy_score(respostas_reais, previsoes_final)"
   ]
  },
  {
   "cell_type": "code",
   "execution_count": null,
   "id": "c6242a1c",
   "metadata": {
    "colab": {
     "base_uri": "https://localhost:8080/"
    },
    "id": "c6242a1c",
    "outputId": "1fb12723-1ffe-4a09-8b7a-cb37d6cc2123"
   },
   "outputs": [],
   "source": [
    "# Matriz de confusão da base de teste\n",
    "cm = confusion_matrix(respostas_reais, previsoes_final)\n",
    "cm"
   ]
  },
  {
   "cell_type": "code",
   "execution_count": null,
   "id": "6dc3d130",
   "metadata": {
    "colab": {
     "base_uri": "https://localhost:8080/",
     "height": 282
    },
    "id": "6dc3d130",
    "outputId": "12b0836b-5c3b-4136-b89a-db9d958f1505"
   },
   "outputs": [],
   "source": [
    "# Plota a matriz de confusão\n",
    "sns.heatmap(cm, annot=True)"
   ]
  }
 ],
 "metadata": {
  "colab": {
   "collapsed_sections": [],
   "name": "Cópia de analise_sentimento.ipynb",
   "provenance": []
  },
  "kernelspec": {
   "display_name": "Python 3 (ipykernel)",
   "language": "python",
   "name": "python3"
  },
  "language_info": {
   "codemirror_mode": {
    "name": "ipython",
    "version": 3
   },
   "file_extension": ".py",
   "mimetype": "text/x-python",
   "name": "python",
   "nbconvert_exporter": "python",
   "pygments_lexer": "ipython3",
   "version": "3.9.12"
  }
 },
 "nbformat": 4,
 "nbformat_minor": 5
}
